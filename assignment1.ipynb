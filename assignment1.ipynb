{
 "cells": [
  {
   "cell_type": "code",
   "execution_count": 1,
   "id": "7c1af952-6d09-4e41-86e0-633ee161d3bd",
   "metadata": {},
   "outputs": [],
   "source": [
    "#q1=create one variable"
   ]
  },
  {
   "cell_type": "code",
   "execution_count": 2,
   "id": "cd281b42-91dd-46f1-9ee9-ab2aef9b0b46",
   "metadata": {},
   "outputs": [],
   "source": [
    "a='devaang'"
   ]
  },
  {
   "cell_type": "code",
   "execution_count": 3,
   "id": "de3ead14-ed7f-4b10-93e4-b82ce03ed275",
   "metadata": {},
   "outputs": [
    {
     "data": {
      "text/plain": [
       "str"
      ]
     },
     "execution_count": 3,
     "metadata": {},
     "output_type": "execute_result"
    }
   ],
   "source": [
    "type(a)"
   ]
  },
  {
   "cell_type": "code",
   "execution_count": 4,
   "id": "0db6e510-68c9-4345-b0f4-935d741d2ec0",
   "metadata": {},
   "outputs": [],
   "source": [
    "b=[2,3,4,5,\"devaang\",42.42,False]"
   ]
  },
  {
   "cell_type": "code",
   "execution_count": 5,
   "id": "eb6c74ca-fa24-4e60-8043-93dff0f419ab",
   "metadata": {},
   "outputs": [
    {
     "data": {
      "text/plain": [
       "list"
      ]
     },
     "execution_count": 5,
     "metadata": {},
     "output_type": "execute_result"
    }
   ],
   "source": [
    "type(b)"
   ]
  },
  {
   "cell_type": "code",
   "execution_count": 6,
   "id": "662145b2-a426-4491-a0d9-e855bdd833f7",
   "metadata": {},
   "outputs": [],
   "source": [
    "c=42.42"
   ]
  },
  {
   "cell_type": "code",
   "execution_count": 7,
   "id": "20df7cc6-1b7b-4c3c-b828-9c867ced89ba",
   "metadata": {},
   "outputs": [
    {
     "data": {
      "text/plain": [
       "float"
      ]
     },
     "execution_count": 7,
     "metadata": {},
     "output_type": "execute_result"
    }
   ],
   "source": [
    "type(c)"
   ]
  },
  {
   "cell_type": "code",
   "execution_count": 8,
   "id": "ad8c3c65-c3f7-4c57-877a-46f755ba2765",
   "metadata": {},
   "outputs": [],
   "source": [
    "d=(2,3,4,5,\"devaang\",42.42,False)"
   ]
  },
  {
   "cell_type": "code",
   "execution_count": 9,
   "id": "bd475acd-8f24-44f5-aaac-956ccaaa264f",
   "metadata": {},
   "outputs": [
    {
     "data": {
      "text/plain": [
       "tuple"
      ]
     },
     "execution_count": 9,
     "metadata": {},
     "output_type": "execute_result"
    }
   ],
   "source": [
    "type(d)"
   ]
  },
  {
   "cell_type": "code",
   "execution_count": 10,
   "id": "e479a212-ddea-450f-bae7-62a92cebbfb0",
   "metadata": {},
   "outputs": [],
   "source": [
    "#Q2=what will be the data type"
   ]
  },
  {
   "cell_type": "code",
   "execution_count": 11,
   "id": "b1e6f8db-82f3-429a-b11f-e2f23a2481d9",
   "metadata": {},
   "outputs": [],
   "source": [
    "var1='dev'"
   ]
  },
  {
   "cell_type": "code",
   "execution_count": 12,
   "id": "922e8c69-e4f6-4f7b-8f22-d76f1730c0ce",
   "metadata": {},
   "outputs": [
    {
     "data": {
      "text/plain": [
       "str"
      ]
     },
     "execution_count": 12,
     "metadata": {},
     "output_type": "execute_result"
    }
   ],
   "source": [
    "type(var1)"
   ]
  },
  {
   "cell_type": "code",
   "execution_count": 13,
   "id": "87bb16af-b963-432d-b3a2-e0d6ae58c487",
   "metadata": {},
   "outputs": [],
   "source": [
    "var2='[DS ,ML,Python]'"
   ]
  },
  {
   "cell_type": "code",
   "execution_count": 14,
   "id": "e5436c1c-ffb6-457e-b96a-9d53ff5d64ff",
   "metadata": {},
   "outputs": [
    {
     "data": {
      "text/plain": [
       "str"
      ]
     },
     "execution_count": 14,
     "metadata": {},
     "output_type": "execute_result"
    }
   ],
   "source": [
    "type(var2)"
   ]
  },
  {
   "cell_type": "code",
   "execution_count": 15,
   "id": "a4ae710e-5662-4499-a4db-d16702f40796",
   "metadata": {},
   "outputs": [],
   "source": [
    "var3=['DS' ,'ML','Python']"
   ]
  },
  {
   "cell_type": "code",
   "execution_count": 16,
   "id": "a2058ad5-b3d2-4659-b5bb-d76431249a75",
   "metadata": {},
   "outputs": [
    {
     "data": {
      "text/plain": [
       "list"
      ]
     },
     "execution_count": 16,
     "metadata": {},
     "output_type": "execute_result"
    }
   ],
   "source": [
    "type(var3)"
   ]
  },
  {
   "cell_type": "code",
   "execution_count": 17,
   "id": "e881a159-9fe2-45fd-bd23-18a0d98d6701",
   "metadata": {},
   "outputs": [],
   "source": [
    "var4=1"
   ]
  },
  {
   "cell_type": "code",
   "execution_count": 18,
   "id": "f6ad0ad4-76de-4615-a66b-81b9493e9c13",
   "metadata": {},
   "outputs": [
    {
     "data": {
      "text/plain": [
       "int"
      ]
     },
     "execution_count": 18,
     "metadata": {},
     "output_type": "execute_result"
    }
   ],
   "source": [
    "type(var4)"
   ]
  },
  {
   "cell_type": "code",
   "execution_count": 19,
   "id": "a2eb249c-69d3-4744-aba5-41429d61df35",
   "metadata": {},
   "outputs": [],
   "source": [
    "#Q3=operator"
   ]
  },
  {
   "cell_type": "code",
   "execution_count": 36,
   "id": "2110fbf9-da90-4420-8765-effb2a5d81d8",
   "metadata": {},
   "outputs": [],
   "source": [
    "e=9/5"
   ]
  },
  {
   "cell_type": "code",
   "execution_count": 37,
   "id": "8801290f-ddc6-4fed-8f8d-b6a51ba73e5c",
   "metadata": {},
   "outputs": [
    {
     "data": {
      "text/plain": [
       "1.8"
      ]
     },
     "execution_count": 37,
     "metadata": {},
     "output_type": "execute_result"
    }
   ],
   "source": [
    "e"
   ]
  },
  {
   "cell_type": "code",
   "execution_count": 38,
   "id": "3d40336f-a01e-422b-a8a5-fbea61ba261b",
   "metadata": {},
   "outputs": [
    {
     "data": {
      "text/plain": [
       "float"
      ]
     },
     "execution_count": 38,
     "metadata": {},
     "output_type": "execute_result"
    }
   ],
   "source": [
    "type(e)"
   ]
  },
  {
   "cell_type": "code",
   "execution_count": 23,
   "id": "3d2ab0da-4e43-4464-8b45-3c4666fdfc81",
   "metadata": {},
   "outputs": [],
   "source": [
    "f=5%9"
   ]
  },
  {
   "cell_type": "code",
   "execution_count": 24,
   "id": "fbc21338-c735-4d1a-b2bd-a1616779c18d",
   "metadata": {},
   "outputs": [
    {
     "data": {
      "text/plain": [
       "5"
      ]
     },
     "execution_count": 24,
     "metadata": {},
     "output_type": "execute_result"
    }
   ],
   "source": [
    "f"
   ]
  },
  {
   "cell_type": "code",
   "execution_count": 39,
   "id": "7de5787a-8df4-4c87-a9e7-934c75c48655",
   "metadata": {},
   "outputs": [],
   "source": [
    "# one more example of modulus"
   ]
  },
  {
   "cell_type": "code",
   "execution_count": 29,
   "id": "2fde2082-7e33-4c47-9c4e-6126d9d24caa",
   "metadata": {},
   "outputs": [],
   "source": [
    "g=9%5"
   ]
  },
  {
   "cell_type": "code",
   "execution_count": 30,
   "id": "95f7fa90-ed55-46b3-b997-640dfac5f3d0",
   "metadata": {},
   "outputs": [
    {
     "data": {
      "text/plain": [
       "4"
      ]
     },
     "execution_count": 30,
     "metadata": {},
     "output_type": "execute_result"
    }
   ],
   "source": [
    "g"
   ]
  },
  {
   "cell_type": "code",
   "execution_count": 31,
   "id": "0e97506c-1b58-4205-81c7-1dfa76ddc45f",
   "metadata": {},
   "outputs": [],
   "source": [
    "# example of floor division"
   ]
  },
  {
   "cell_type": "code",
   "execution_count": 32,
   "id": "31af5c9c-82de-4f43-a98b-7769c58d4e48",
   "metadata": {},
   "outputs": [],
   "source": [
    "h=9//5"
   ]
  },
  {
   "cell_type": "code",
   "execution_count": 33,
   "id": "679461a9-3c46-4136-a365-5087a161d894",
   "metadata": {},
   "outputs": [
    {
     "data": {
      "text/plain": [
       "1"
      ]
     },
     "execution_count": 33,
     "metadata": {},
     "output_type": "execute_result"
    }
   ],
   "source": [
    "h"
   ]
  },
  {
   "cell_type": "code",
   "execution_count": 40,
   "id": "1c44342a-5976-45c2-af1b-b6ddb36854f8",
   "metadata": {},
   "outputs": [],
   "source": [
    "i=2**3"
   ]
  },
  {
   "cell_type": "code",
   "execution_count": 41,
   "id": "d8a5d4a0-afc2-4ab9-b901-3cd32aa37775",
   "metadata": {},
   "outputs": [
    {
     "data": {
      "text/plain": [
       "8"
      ]
     },
     "execution_count": 41,
     "metadata": {},
     "output_type": "execute_result"
    }
   ],
   "source": [
    "i"
   ]
  },
  {
   "cell_type": "code",
   "execution_count": 47,
   "id": "239b2e34-9b4d-4583-be97-1a0eaa1a509f",
   "metadata": {},
   "outputs": [],
   "source": [
    "x=[1,2,'a','b','c','sudh','car',33.33,42.45,True]"
   ]
  },
  {
   "cell_type": "code",
   "execution_count": 48,
   "id": "44f6f1c5-1559-4bad-ba5f-6961d3b375c5",
   "metadata": {},
   "outputs": [
    {
     "name": "stdout",
     "output_type": "stream",
     "text": [
      "<class 'int'>\n",
      "1\n",
      "<class 'int'>\n",
      "2\n",
      "<class 'str'>\n",
      "a\n",
      "<class 'str'>\n",
      "b\n",
      "<class 'str'>\n",
      "c\n",
      "<class 'str'>\n",
      "sudh\n",
      "<class 'str'>\n",
      "car\n",
      "<class 'float'>\n",
      "33.33\n",
      "<class 'float'>\n",
      "42.45\n",
      "<class 'bool'>\n",
      "True\n"
     ]
    }
   ],
   "source": [
    "for y in x:\n",
    "    print(type(y))\n",
    "    print(y)"
   ]
  },
  {
   "cell_type": "code",
   "execution_count": 1,
   "id": "581eb9ca-fca4-4d6b-b046-5c507a816cf7",
   "metadata": {},
   "outputs": [],
   "source": [
    "#Q7 mutable and immutable"
   ]
  },
  {
   "cell_type": "code",
   "execution_count": 5,
   "id": "f9b29c52-1121-4b1e-bf35-d844d62c6379",
   "metadata": {},
   "outputs": [],
   "source": [
    "# Mutable= allow to change (replace)the data without affecting  objects .eg-list"
   ]
  },
  {
   "cell_type": "code",
   "execution_count": 3,
   "id": "16880432-0da3-4b42-bbeb-7d1033ccf3e9",
   "metadata": {},
   "outputs": [],
   "source": [
    "# Immutable = Does not allow to change (replace) the data inside object.eg-string\n"
   ]
  },
  {
   "cell_type": "code",
   "execution_count": 8,
   "id": "ad88a89f-e512-4dde-8251-0d834f5d3def",
   "metadata": {},
   "outputs": [],
   "source": [
    "w=[1,2,4,5,6]"
   ]
  },
  {
   "cell_type": "code",
   "execution_count": 9,
   "id": "3bed9d07-4636-4f80-9b22-643c2b377cba",
   "metadata": {},
   "outputs": [
    {
     "data": {
      "text/plain": [
       "list"
      ]
     },
     "execution_count": 9,
     "metadata": {},
     "output_type": "execute_result"
    }
   ],
   "source": [
    "type(w)"
   ]
  },
  {
   "cell_type": "code",
   "execution_count": 10,
   "id": "425d1488-142b-4c78-bbd7-f73710940e1b",
   "metadata": {},
   "outputs": [],
   "source": [
    "w[2]=3"
   ]
  },
  {
   "cell_type": "code",
   "execution_count": 11,
   "id": "6580a7fd-0e68-4f5d-b591-7598da8f68f4",
   "metadata": {},
   "outputs": [
    {
     "data": {
      "text/plain": [
       "[1, 2, 3, 5, 6]"
      ]
     },
     "execution_count": 11,
     "metadata": {},
     "output_type": "execute_result"
    }
   ],
   "source": [
    "w"
   ]
  },
  {
   "cell_type": "code",
   "execution_count": 12,
   "id": "d3441b9c-c563-4fda-841c-7fdd27fbc1bb",
   "metadata": {},
   "outputs": [],
   "source": [
    "w[3]=4"
   ]
  },
  {
   "cell_type": "code",
   "execution_count": 13,
   "id": "00fdea17-41c5-4323-983f-ee42e18e654f",
   "metadata": {},
   "outputs": [
    {
     "data": {
      "text/plain": [
       "[1, 2, 3, 4, 6]"
      ]
     },
     "execution_count": 13,
     "metadata": {},
     "output_type": "execute_result"
    }
   ],
   "source": [
    "w"
   ]
  },
  {
   "cell_type": "code",
   "execution_count": 14,
   "id": "05126d12-55d2-44ca-8534-be5e006f8d6d",
   "metadata": {},
   "outputs": [],
   "source": [
    "w[4]=5"
   ]
  },
  {
   "cell_type": "code",
   "execution_count": 15,
   "id": "16987b63-82b8-4771-83d2-85b9acb6da15",
   "metadata": {},
   "outputs": [
    {
     "data": {
      "text/plain": [
       "[1, 2, 3, 4, 5]"
      ]
     },
     "execution_count": 15,
     "metadata": {},
     "output_type": "execute_result"
    }
   ],
   "source": [
    "w"
   ]
  },
  {
   "cell_type": "code",
   "execution_count": 16,
   "id": "d1b4b036-949a-4dcb-a93a-1a599f4a5cbe",
   "metadata": {},
   "outputs": [],
   "source": [
    "t=\"Abhushek\""
   ]
  },
  {
   "cell_type": "code",
   "execution_count": 17,
   "id": "fc0a69b6-ef99-43fb-87d9-bafd790e617c",
   "metadata": {},
   "outputs": [
    {
     "data": {
      "text/plain": [
       "str"
      ]
     },
     "execution_count": 17,
     "metadata": {},
     "output_type": "execute_result"
    }
   ],
   "source": [
    "type(t)"
   ]
  },
  {
   "cell_type": "code",
   "execution_count": 19,
   "id": "a25b0903-2bf5-4aa3-a9c8-76c17637a6bd",
   "metadata": {},
   "outputs": [
    {
     "ename": "TypeError",
     "evalue": "'str' object does not support item assignment",
     "output_type": "error",
     "traceback": [
      "\u001b[0;31m---------------------------------------------------------------------------\u001b[0m",
      "\u001b[0;31mTypeError\u001b[0m                                 Traceback (most recent call last)",
      "Cell \u001b[0;32mIn[19], line 1\u001b[0m\n\u001b[0;32m----> 1\u001b[0m \u001b[43mt\u001b[49m\u001b[43m[\u001b[49m\u001b[38;5;241;43m3\u001b[39;49m\u001b[43m]\u001b[49m\u001b[38;5;241m=\u001b[39m\u001b[38;5;124m'\u001b[39m\u001b[38;5;124mi\u001b[39m\u001b[38;5;124m'\u001b[39m\n",
      "\u001b[0;31mTypeError\u001b[0m: 'str' object does not support item assignment"
     ]
    }
   ],
   "source": [
    "t[3]='i'"
   ]
  }
 ],
 "metadata": {
  "kernelspec": {
   "display_name": "Python 3 (ipykernel)",
   "language": "python",
   "name": "python3"
  },
  "language_info": {
   "codemirror_mode": {
    "name": "ipython",
    "version": 3
   },
   "file_extension": ".py",
   "mimetype": "text/x-python",
   "name": "python",
   "nbconvert_exporter": "python",
   "pygments_lexer": "ipython3",
   "version": "3.10.8"
  }
 },
 "nbformat": 4,
 "nbformat_minor": 5
}
